{
  "nbformat": 4,
  "nbformat_minor": 0,
  "metadata": {
    "colab": {
      "provenance": [],
      "authorship_tag": "ABX9TyOEbFYJ3dMff3rtgLSy0j3l",
      "include_colab_link": true
    },
    "kernelspec": {
      "name": "python3",
      "display_name": "Python 3"
    },
    "language_info": {
      "name": "python"
    }
  },
  "cells": [
    {
      "cell_type": "markdown",
      "metadata": {
        "id": "view-in-github",
        "colab_type": "text"
      },
      "source": [
        "<a href=\"https://colab.research.google.com/github/Ulyssesbebem/Tarefas/blob/main/Ulysses_Curso_2023.ipynb\" target=\"_parent\"><img src=\"https://colab.research.google.com/assets/colab-badge.svg\" alt=\"Open In Colab\"/></a>"
      ]
    },
    {
      "cell_type": "code",
      "execution_count": 204,
      "metadata": {
        "id": "nssWibqvhAv0"
      },
      "outputs": [],
      "source": [
        "import numpy as np\n",
        "from scipy.signal import cont2discrete\n",
        "from scipy import signal\n",
        "import matplotlib.pyplot as plt\n",
        "from scipy.signal import dstep\n",
        "from scipy.linalg import expm\n",
        "from numpy.linalg import multi_dot, inv\n",
        "from scipy.optimize import minimize"
      ]
    },
    {
      "cell_type": "code",
      "source": [
        "dt=0.1\n",
        "P=10\n",
        "M=5\n",
        "w=1\n",
        "N=50\n",
        "t_f = 6\n",
        "Ns=round(t_f/dt)\n",
        "W= w *np.eye(M)\n",
        "r=np.ones ([P,1])\n",
        "x=np.zeros((2,Ns+1)) #inicializar os estados\n",
        "u=np.zeros((1,Ns+1)) #inicializar as entradas\n",
        "y_hat=np.zeros((1,Ns+1)) #inicializar as saídas\n",
        "d_hat=np.zeros((P,Ns+1))\n",
        "error=np.zeros((1,Ns+1)) #inicialize error calculations\n",
        "y=np.zeros((1,Ns+1))\n",
        "t=np.linspace(0,t_f,Ns+1)"
      ],
      "metadata": {
        "id": "TCrjEwT8hDDo"
      },
      "execution_count": 205,
      "outputs": []
    },
    {
      "cell_type": "code",
      "source": [
        "A = np.array([[-2.4047,0],[0.8333,-2.2381]])\n",
        "B = np.array([[7],[-1.117]])\n",
        "C = np.array([0,1])\n",
        "D = np.array([0])\n",
        "\n",
        "print(A)"
      ],
      "metadata": {
        "colab": {
          "base_uri": "https://localhost:8080/"
        },
        "id": "RMHiyKoVhFps",
        "outputId": "ca8bd909-e6a9-4112-d54b-e3686bd90f2c"
      },
      "execution_count": 206,
      "outputs": [
        {
          "output_type": "stream",
          "name": "stdout",
          "text": [
            "[[-2.4047  0.    ]\n",
            " [ 0.8333 -2.2381]]\n"
          ]
        }
      ]
    },
    {
      "cell_type": "code",
      "source": [
        "Phi=expm(A*dt)\n",
        "Gamma= multi_dot([Phi-np.eye(2),inv(A),B])"
      ],
      "metadata": {
        "id": "mcHQY2HjhLh4"
      },
      "execution_count": 207,
      "outputs": []
    },
    {
      "cell_type": "code",
      "source": [
        "sys = (Phi,Gamma,C,D,dt)\n",
        "t_step,y_step = signal.dstep(sys,n=50+1)\n",
        "Sf= np.zeros([P,M])\n",
        "print(y_step )\n",
        "print(Sf)"
      ],
      "metadata": {
        "colab": {
          "base_uri": "https://localhost:8080/"
        },
        "id": "_V_zvFwnhQJo",
        "outputId": "b892b075-d5dd-46db-da74-b0057e15bc23"
      },
      "execution_count": 208,
      "outputs": [
        {
          "output_type": "stream",
          "name": "stdout",
          "text": [
            "(array([[ 0.        ],\n",
            "       [-0.07506109],\n",
            "       [-0.09396296],\n",
            "       [-0.07675365],\n",
            "       [-0.03758295],\n",
            "       [ 0.01371347],\n",
            "       [ 0.07043328],\n",
            "       [ 0.12813102],\n",
            "       [ 0.18397043],\n",
            "       [ 0.23624831],\n",
            "       [ 0.28404671],\n",
            "       [ 0.32698061],\n",
            "       [ 0.3650165 ],\n",
            "       [ 0.39834327],\n",
            "       [ 0.42728147],\n",
            "       [ 0.45222072],\n",
            "       [ 0.47357733],\n",
            "       [ 0.49176653],\n",
            "       [ 0.50718512],\n",
            "       [ 0.52020126],\n",
            "       [ 0.53114935],\n",
            "       [ 0.54032822],\n",
            "       [ 0.54800156],\n",
            "       [ 0.55439965],\n",
            "       [ 0.55972189],\n",
            "       [ 0.56413975],\n",
            "       [ 0.56779975],\n",
            "       [ 0.57082651],\n",
            "       [ 0.57332549],\n",
            "       [ 0.57538559],\n",
            "       [ 0.57708152],\n",
            "       [ 0.57847585],\n",
            "       [ 0.57962083],\n",
            "       [ 0.58056   ],\n",
            "       [ 0.58132954],\n",
            "       [ 0.58195947],\n",
            "       [ 0.58247464],\n",
            "       [ 0.58289559],\n",
            "       [ 0.58323928],\n",
            "       [ 0.58351967],\n",
            "       [ 0.58374826],\n",
            "       [ 0.58393448],\n",
            "       [ 0.58408608],\n",
            "       [ 0.58420944],\n",
            "       [ 0.58430975],\n",
            "       [ 0.58439127],\n",
            "       [ 0.58445748],\n",
            "       [ 0.58451124],\n",
            "       [ 0.58455486],\n",
            "       [ 0.58459025],\n",
            "       [ 0.58461894]]),)\n",
            "[[0. 0. 0. 0. 0.]\n",
            " [0. 0. 0. 0. 0.]\n",
            " [0. 0. 0. 0. 0.]\n",
            " [0. 0. 0. 0. 0.]\n",
            " [0. 0. 0. 0. 0.]\n",
            " [0. 0. 0. 0. 0.]\n",
            " [0. 0. 0. 0. 0.]\n",
            " [0. 0. 0. 0. 0.]\n",
            " [0. 0. 0. 0. 0.]\n",
            " [0. 0. 0. 0. 0.]]\n"
          ]
        }
      ]
    },
    {
      "cell_type": "code",
      "source": [
        "for i in range (1,P+1):\n",
        "    Sf[i-1,0]=y_step[0][i]\n",
        "\n",
        "print(Sf)"
      ],
      "metadata": {
        "colab": {
          "base_uri": "https://localhost:8080/"
        },
        "id": "Xv1I04CWiCYU",
        "outputId": "3f3898a6-20a4-496d-ca49-b41a67e588e7"
      },
      "execution_count": 209,
      "outputs": [
        {
          "output_type": "stream",
          "name": "stdout",
          "text": [
            "[[-0.07506109  0.          0.          0.          0.        ]\n",
            " [-0.09396296  0.          0.          0.          0.        ]\n",
            " [-0.07675365  0.          0.          0.          0.        ]\n",
            " [-0.03758295  0.          0.          0.          0.        ]\n",
            " [ 0.01371347  0.          0.          0.          0.        ]\n",
            " [ 0.07043328  0.          0.          0.          0.        ]\n",
            " [ 0.12813102  0.          0.          0.          0.        ]\n",
            " [ 0.18397043  0.          0.          0.          0.        ]\n",
            " [ 0.23624831  0.          0.          0.          0.        ]\n",
            " [ 0.28404671  0.          0.          0.          0.        ]]\n"
          ]
        }
      ]
    },
    {
      "cell_type": "code",
      "source": [
        "for i in range(P):\n",
        "    for j in range(M):\n",
        "        if i < j:\n",
        "            Sf[i, j] = 0\n",
        "        else:\n",
        "              Sf[i,1]=y_step[0][i]\n",
        "              Sf[i,2]=y_step[0][i-1]\n",
        "              Sf[i,3]=y_step[0][i-2]\n",
        "              Sf[i,4]=y_step[0][i-3]\n",
        "print(Sf)"
      ],
      "metadata": {
        "colab": {
          "base_uri": "https://localhost:8080/"
        },
        "id": "a-MXCWMxiRRS",
        "outputId": "8c8060f1-b8ba-40bd-a597-224738f759c5"
      },
      "execution_count": 210,
      "outputs": [
        {
          "output_type": "stream",
          "name": "stdout",
          "text": [
            "[[-0.07506109  0.          0.          0.          0.        ]\n",
            " [-0.09396296 -0.07506109  0.          0.          0.        ]\n",
            " [-0.07675365 -0.09396296 -0.07506109  0.          0.        ]\n",
            " [-0.03758295 -0.07675365 -0.09396296 -0.07506109  0.        ]\n",
            " [ 0.01371347 -0.03758295 -0.07675365 -0.09396296 -0.07506109]\n",
            " [ 0.07043328  0.01371347 -0.03758295 -0.07675365 -0.09396296]\n",
            " [ 0.12813102  0.07043328  0.01371347 -0.03758295 -0.07675365]\n",
            " [ 0.18397043  0.12813102  0.07043328  0.01371347 -0.03758295]\n",
            " [ 0.23624831  0.18397043  0.12813102  0.07043328  0.01371347]\n",
            " [ 0.28404671  0.23624831  0.18397043  0.12813102  0.07043328]]\n"
          ]
        }
      ]
    },
    {
      "cell_type": "code",
      "source": [
        "Spast= np.zeros([P,N-2])\n",
        "print(Spast)"
      ],
      "metadata": {
        "colab": {
          "base_uri": "https://localhost:8080/"
        },
        "id": "T0Z6nq4miTCh",
        "outputId": "71854a10-7e01-476e-9906-4117663f6f6f"
      },
      "execution_count": 211,
      "outputs": [
        {
          "output_type": "stream",
          "name": "stdout",
          "text": [
            "[[0. 0. 0. 0. 0. 0. 0. 0. 0. 0. 0. 0. 0. 0. 0. 0. 0. 0. 0. 0. 0. 0. 0. 0.\n",
            "  0. 0. 0. 0. 0. 0. 0. 0. 0. 0. 0. 0. 0. 0. 0. 0. 0. 0. 0. 0. 0. 0. 0. 0.]\n",
            " [0. 0. 0. 0. 0. 0. 0. 0. 0. 0. 0. 0. 0. 0. 0. 0. 0. 0. 0. 0. 0. 0. 0. 0.\n",
            "  0. 0. 0. 0. 0. 0. 0. 0. 0. 0. 0. 0. 0. 0. 0. 0. 0. 0. 0. 0. 0. 0. 0. 0.]\n",
            " [0. 0. 0. 0. 0. 0. 0. 0. 0. 0. 0. 0. 0. 0. 0. 0. 0. 0. 0. 0. 0. 0. 0. 0.\n",
            "  0. 0. 0. 0. 0. 0. 0. 0. 0. 0. 0. 0. 0. 0. 0. 0. 0. 0. 0. 0. 0. 0. 0. 0.]\n",
            " [0. 0. 0. 0. 0. 0. 0. 0. 0. 0. 0. 0. 0. 0. 0. 0. 0. 0. 0. 0. 0. 0. 0. 0.\n",
            "  0. 0. 0. 0. 0. 0. 0. 0. 0. 0. 0. 0. 0. 0. 0. 0. 0. 0. 0. 0. 0. 0. 0. 0.]\n",
            " [0. 0. 0. 0. 0. 0. 0. 0. 0. 0. 0. 0. 0. 0. 0. 0. 0. 0. 0. 0. 0. 0. 0. 0.\n",
            "  0. 0. 0. 0. 0. 0. 0. 0. 0. 0. 0. 0. 0. 0. 0. 0. 0. 0. 0. 0. 0. 0. 0. 0.]\n",
            " [0. 0. 0. 0. 0. 0. 0. 0. 0. 0. 0. 0. 0. 0. 0. 0. 0. 0. 0. 0. 0. 0. 0. 0.\n",
            "  0. 0. 0. 0. 0. 0. 0. 0. 0. 0. 0. 0. 0. 0. 0. 0. 0. 0. 0. 0. 0. 0. 0. 0.]\n",
            " [0. 0. 0. 0. 0. 0. 0. 0. 0. 0. 0. 0. 0. 0. 0. 0. 0. 0. 0. 0. 0. 0. 0. 0.\n",
            "  0. 0. 0. 0. 0. 0. 0. 0. 0. 0. 0. 0. 0. 0. 0. 0. 0. 0. 0. 0. 0. 0. 0. 0.]\n",
            " [0. 0. 0. 0. 0. 0. 0. 0. 0. 0. 0. 0. 0. 0. 0. 0. 0. 0. 0. 0. 0. 0. 0. 0.\n",
            "  0. 0. 0. 0. 0. 0. 0. 0. 0. 0. 0. 0. 0. 0. 0. 0. 0. 0. 0. 0. 0. 0. 0. 0.]\n",
            " [0. 0. 0. 0. 0. 0. 0. 0. 0. 0. 0. 0. 0. 0. 0. 0. 0. 0. 0. 0. 0. 0. 0. 0.\n",
            "  0. 0. 0. 0. 0. 0. 0. 0. 0. 0. 0. 0. 0. 0. 0. 0. 0. 0. 0. 0. 0. 0. 0. 0.]\n",
            " [0. 0. 0. 0. 0. 0. 0. 0. 0. 0. 0. 0. 0. 0. 0. 0. 0. 0. 0. 0. 0. 0. 0. 0.\n",
            "  0. 0. 0. 0. 0. 0. 0. 0. 0. 0. 0. 0. 0. 0. 0. 0. 0. 0. 0. 0. 0. 0. 0. 0.]]\n"
          ]
        }
      ]
    },
    {
      "cell_type": "code",
      "source": [
        "for i in range (1,P+1):\n",
        "    for j in range (1,N-1):\n",
        "        if (i + j) <= (N - 1):\n",
        "            Spast[i-1,j-1] = (y_step[0][i+j])\n",
        "print(Spast)"
      ],
      "metadata": {
        "colab": {
          "base_uri": "https://localhost:8080/"
        },
        "id": "4fKBp2Fdid3Y",
        "outputId": "a2050727-5b5b-4be4-c3f6-92cbe6d651dc"
      },
      "execution_count": 212,
      "outputs": [
        {
          "output_type": "stream",
          "name": "stdout",
          "text": [
            "[[-0.09396296 -0.07675365 -0.03758295  0.01371347  0.07043328  0.12813102\n",
            "   0.18397043  0.23624831  0.28404671  0.32698061  0.3650165   0.39834327\n",
            "   0.42728147  0.45222072  0.47357733  0.49176653  0.50718512  0.52020126\n",
            "   0.53114935  0.54032822  0.54800156  0.55439965  0.55972189  0.56413975\n",
            "   0.56779975  0.57082651  0.57332549  0.57538559  0.57708152  0.57847585\n",
            "   0.57962083  0.58056     0.58132954  0.58195947  0.58247464  0.58289559\n",
            "   0.58323928  0.58351967  0.58374826  0.58393448  0.58408608  0.58420944\n",
            "   0.58430975  0.58439127  0.58445748  0.58451124  0.58455486  0.58459025]\n",
            " [-0.07675365 -0.03758295  0.01371347  0.07043328  0.12813102  0.18397043\n",
            "   0.23624831  0.28404671  0.32698061  0.3650165   0.39834327  0.42728147\n",
            "   0.45222072  0.47357733  0.49176653  0.50718512  0.52020126  0.53114935\n",
            "   0.54032822  0.54800156  0.55439965  0.55972189  0.56413975  0.56779975\n",
            "   0.57082651  0.57332549  0.57538559  0.57708152  0.57847585  0.57962083\n",
            "   0.58056     0.58132954  0.58195947  0.58247464  0.58289559  0.58323928\n",
            "   0.58351967  0.58374826  0.58393448  0.58408608  0.58420944  0.58430975\n",
            "   0.58439127  0.58445748  0.58451124  0.58455486  0.58459025  0.        ]\n",
            " [-0.03758295  0.01371347  0.07043328  0.12813102  0.18397043  0.23624831\n",
            "   0.28404671  0.32698061  0.3650165   0.39834327  0.42728147  0.45222072\n",
            "   0.47357733  0.49176653  0.50718512  0.52020126  0.53114935  0.54032822\n",
            "   0.54800156  0.55439965  0.55972189  0.56413975  0.56779975  0.57082651\n",
            "   0.57332549  0.57538559  0.57708152  0.57847585  0.57962083  0.58056\n",
            "   0.58132954  0.58195947  0.58247464  0.58289559  0.58323928  0.58351967\n",
            "   0.58374826  0.58393448  0.58408608  0.58420944  0.58430975  0.58439127\n",
            "   0.58445748  0.58451124  0.58455486  0.58459025  0.          0.        ]\n",
            " [ 0.01371347  0.07043328  0.12813102  0.18397043  0.23624831  0.28404671\n",
            "   0.32698061  0.3650165   0.39834327  0.42728147  0.45222072  0.47357733\n",
            "   0.49176653  0.50718512  0.52020126  0.53114935  0.54032822  0.54800156\n",
            "   0.55439965  0.55972189  0.56413975  0.56779975  0.57082651  0.57332549\n",
            "   0.57538559  0.57708152  0.57847585  0.57962083  0.58056     0.58132954\n",
            "   0.58195947  0.58247464  0.58289559  0.58323928  0.58351967  0.58374826\n",
            "   0.58393448  0.58408608  0.58420944  0.58430975  0.58439127  0.58445748\n",
            "   0.58451124  0.58455486  0.58459025  0.          0.          0.        ]\n",
            " [ 0.07043328  0.12813102  0.18397043  0.23624831  0.28404671  0.32698061\n",
            "   0.3650165   0.39834327  0.42728147  0.45222072  0.47357733  0.49176653\n",
            "   0.50718512  0.52020126  0.53114935  0.54032822  0.54800156  0.55439965\n",
            "   0.55972189  0.56413975  0.56779975  0.57082651  0.57332549  0.57538559\n",
            "   0.57708152  0.57847585  0.57962083  0.58056     0.58132954  0.58195947\n",
            "   0.58247464  0.58289559  0.58323928  0.58351967  0.58374826  0.58393448\n",
            "   0.58408608  0.58420944  0.58430975  0.58439127  0.58445748  0.58451124\n",
            "   0.58455486  0.58459025  0.          0.          0.          0.        ]\n",
            " [ 0.12813102  0.18397043  0.23624831  0.28404671  0.32698061  0.3650165\n",
            "   0.39834327  0.42728147  0.45222072  0.47357733  0.49176653  0.50718512\n",
            "   0.52020126  0.53114935  0.54032822  0.54800156  0.55439965  0.55972189\n",
            "   0.56413975  0.56779975  0.57082651  0.57332549  0.57538559  0.57708152\n",
            "   0.57847585  0.57962083  0.58056     0.58132954  0.58195947  0.58247464\n",
            "   0.58289559  0.58323928  0.58351967  0.58374826  0.58393448  0.58408608\n",
            "   0.58420944  0.58430975  0.58439127  0.58445748  0.58451124  0.58455486\n",
            "   0.58459025  0.          0.          0.          0.          0.        ]\n",
            " [ 0.18397043  0.23624831  0.28404671  0.32698061  0.3650165   0.39834327\n",
            "   0.42728147  0.45222072  0.47357733  0.49176653  0.50718512  0.52020126\n",
            "   0.53114935  0.54032822  0.54800156  0.55439965  0.55972189  0.56413975\n",
            "   0.56779975  0.57082651  0.57332549  0.57538559  0.57708152  0.57847585\n",
            "   0.57962083  0.58056     0.58132954  0.58195947  0.58247464  0.58289559\n",
            "   0.58323928  0.58351967  0.58374826  0.58393448  0.58408608  0.58420944\n",
            "   0.58430975  0.58439127  0.58445748  0.58451124  0.58455486  0.58459025\n",
            "   0.          0.          0.          0.          0.          0.        ]\n",
            " [ 0.23624831  0.28404671  0.32698061  0.3650165   0.39834327  0.42728147\n",
            "   0.45222072  0.47357733  0.49176653  0.50718512  0.52020126  0.53114935\n",
            "   0.54032822  0.54800156  0.55439965  0.55972189  0.56413975  0.56779975\n",
            "   0.57082651  0.57332549  0.57538559  0.57708152  0.57847585  0.57962083\n",
            "   0.58056     0.58132954  0.58195947  0.58247464  0.58289559  0.58323928\n",
            "   0.58351967  0.58374826  0.58393448  0.58408608  0.58420944  0.58430975\n",
            "   0.58439127  0.58445748  0.58451124  0.58455486  0.58459025  0.\n",
            "   0.          0.          0.          0.          0.          0.        ]\n",
            " [ 0.28404671  0.32698061  0.3650165   0.39834327  0.42728147  0.45222072\n",
            "   0.47357733  0.49176653  0.50718512  0.52020126  0.53114935  0.54032822\n",
            "   0.54800156  0.55439965  0.55972189  0.56413975  0.56779975  0.57082651\n",
            "   0.57332549  0.57538559  0.57708152  0.57847585  0.57962083  0.58056\n",
            "   0.58132954  0.58195947  0.58247464  0.58289559  0.58323928  0.58351967\n",
            "   0.58374826  0.58393448  0.58408608  0.58420944  0.58430975  0.58439127\n",
            "   0.58445748  0.58451124  0.58455486  0.58459025  0.          0.\n",
            "   0.          0.          0.          0.          0.          0.        ]\n",
            " [ 0.32698061  0.3650165   0.39834327  0.42728147  0.45222072  0.47357733\n",
            "   0.49176653  0.50718512  0.52020126  0.53114935  0.54032822  0.54800156\n",
            "   0.55439965  0.55972189  0.56413975  0.56779975  0.57082651  0.57332549\n",
            "   0.57538559  0.57708152  0.57847585  0.57962083  0.58056     0.58132954\n",
            "   0.58195947  0.58247464  0.58289559  0.58323928  0.58351967  0.58374826\n",
            "   0.58393448  0.58408608  0.58420944  0.58430975  0.58439127  0.58445748\n",
            "   0.58451124  0.58455486  0.58459025  0.          0.          0.\n",
            "   0.          0.          0.          0.          0.          0.        ]]\n"
          ]
        }
      ]
    },
    {
      "cell_type": "code",
      "source": [
        "print(Spast[:,39])"
      ],
      "metadata": {
        "colab": {
          "base_uri": "https://localhost:8080/"
        },
        "id": "yWFeHcwuigqK",
        "outputId": "deaeb4ef-9b96-46db-c27a-3b9152f04a00"
      },
      "execution_count": 213,
      "outputs": [
        {
          "output_type": "stream",
          "name": "stdout",
          "text": [
            "[0.58393448 0.58408608 0.58420944 0.58430975 0.58439127 0.58445748\n",
            " 0.58451124 0.58455486 0.58459025 0.        ]\n"
          ]
        }
      ]
    },
    {
      "cell_type": "code",
      "source": [
        "Sn = y_step[0][-1]\n",
        "\n",
        "print(Sn)"
      ],
      "metadata": {
        "colab": {
          "base_uri": "https://localhost:8080/"
        },
        "id": "gKi8pSswii1V",
        "outputId": "a58d8dd6-5bf5-4158-9fb5-43190cdbf4d1"
      },
      "execution_count": 214,
      "outputs": [
        {
          "output_type": "stream",
          "name": "stdout",
          "text": [
            "[0.58461894]\n"
          ]
        }
      ]
    },
    {
      "cell_type": "code",
      "source": [
        "u_past = np.zeros([N-1])\n",
        "print(u_past)"
      ],
      "metadata": {
        "colab": {
          "base_uri": "https://localhost:8080/"
        },
        "id": "412z9TYgilJF",
        "outputId": "d42dc98f-781c-4276-ab4d-05852602df7b"
      },
      "execution_count": 215,
      "outputs": [
        {
          "output_type": "stream",
          "name": "stdout",
          "text": [
            "[0. 0. 0. 0. 0. 0. 0. 0. 0. 0. 0. 0. 0. 0. 0. 0. 0. 0. 0. 0. 0. 0. 0. 0.\n",
            " 0. 0. 0. 0. 0. 0. 0. 0. 0. 0. 0. 0. 0. 0. 0. 0. 0. 0. 0. 0. 0. 0. 0. 0.\n",
            " 0.]\n"
          ]
        }
      ]
    },
    {
      "cell_type": "code",
      "source": [
        "def f_object(delta_u_f):\n",
        "  H=np.dot(Sf.T,Sf)+W\n",
        "  Ct= np.dot(E.T,Sf).T\n",
        "  Fobj=(1/2)*(multi_dot([delta_u_f.T,H,delta_u_f]))-np.dot(Ct.T,delta_u_f)\n",
        "  return Fobj\n",
        "\n"
      ],
      "metadata": {
        "id": "_i3De-aUryjY"
      },
      "execution_count": 216,
      "outputs": []
    },
    {
      "cell_type": "code",
      "source": [
        "for k in range (0,round(Ns),1):\n",
        "  delta_u_past=u_past[0:N-2] - u_past[1:N-1]\n",
        "\n",
        "  u_past_flip = np.flip(u_past)\n",
        "\n",
        "  u_p = u_past_flip[0:P]\n",
        "\n",
        "  E=(r.T -(multi_dot([Spast, delta_u_past]) + Sn*u_p + d_hat[:,k])).T\n",
        "\n",
        "  delta_u_f0= np.zeros((M,1))\n",
        "\n",
        "  #delta_u_f= multi_dot([inv(multi_dot([Sf.T,Sf]) + W),Sf.T,E])\n",
        "  delta_uf_final= minimize(f_object,delta_u_f0, method='SLSQP')\n",
        "  delta_u_f = delta_uf_final.x\n",
        "\n",
        "  if (k>0):\n",
        "    u[0,k]=delta_u_f[0]+u[0,k-1]\n",
        "    u[0,k+1] = u[0,k]\n",
        "  else:\n",
        "    u[0,k] = delta_u_f[0]\n",
        "\n",
        "  x[:,k+1] = np.dot(Phi,x[:,k]) + np.dot(Gamma,u[:,k])\n",
        "\n",
        "  y[:,k+1] = np.dot(C,x[:,k+1])+np.dot(D,u[:,k+1])\n",
        "\n",
        "  y_hat[:,k+1] = np.dot(Sf[0,:],delta_u_f) + np.dot(Spast[0,:], delta_u_past) + Sn*u_p[0]\n",
        "\n",
        "  d_hat[:,k+1]=np.dot(np.ones((P,1)), y[:,k+1] - y_hat[:,k+1])\n",
        "\n",
        "  d_hat[:,k+1] = np.dot(np.ones((P,1)), y[:,k+1] - y_hat[:,k+1])\n",
        "\n",
        "  u_past = np.hstack((u[0,k],u_past[0:N-2]))\n",
        "\n",
        "  error[:,k+1] = r[1,0] - y[0,k+1]\n",
        "\n",
        "\n",
        "\n",
        "SSE = np.sum(np.square(error))\n",
        "\n",
        "plt.figure()\n",
        "plt.plot(t, y[0], 'o', label = 'output')\n",
        "plt.xlabel('Time [min]')\n",
        "plt.ylabel('Output in closed loop')\n",
        "plt.legend()\n",
        "\n",
        "plt.figure()\n",
        "plt.plot(t, u[0], 'o', label = 'input')\n",
        "plt.xlabel('Time [min]')\n",
        "plt.ylabel('Input')\n",
        "plt.legend()\n"
      ],
      "metadata": {
        "colab": {
          "base_uri": "https://localhost:8080/",
          "height": 953
        },
        "id": "Eal-0i04iotz",
        "outputId": "56144669-a29e-4198-98fc-c6489499a199"
      },
      "execution_count": 217,
      "outputs": [
        {
          "output_type": "stream",
          "name": "stderr",
          "text": [
            "<ipython-input-217-a8bb9a9a4a0e>:13: DeprecationWarning: Use of `minimize` with `x0.ndim != 1` is deprecated. Currently, singleton dimensions will be removed from `x0`, but an error will be raised in SciPy 1.11.0.\n",
            "  delta_uf_final= minimize(f_object,delta_u_f0, method='SLSQP')\n"
          ]
        },
        {
          "output_type": "execute_result",
          "data": {
            "text/plain": [
              "<matplotlib.legend.Legend at 0x79a8bccc87c0>"
            ]
          },
          "metadata": {},
          "execution_count": 217
        },
        {
          "output_type": "display_data",
          "data": {
            "text/plain": [
              "<Figure size 640x480 with 1 Axes>"
            ],
            "image/png": "[encoded data removed]"
          },
          "metadata": {}
        },
        {
          "output_type": "display_data",
          "data": {
            "text/plain": [
              "<Figure size 640x480 with 1 Axes>"
            ],
            "image/png": "[encoded data removed]"
          },
          "metadata": {}
        }
      ]
    }
  ]
}